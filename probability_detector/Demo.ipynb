{
 "cells": [
  {
   "cell_type": "code",
   "execution_count": 1,
   "metadata": {},
   "outputs": [],
   "source": [
    "from table import HoldemTable"
   ]
  },
  {
   "cell_type": "markdown",
   "metadata": {},
   "source": [
    "# PokerOddsCalc\n",
    "\n",
    "---\n",
    "\n",
    "**PokerOddsCalc** is a simple poker hand probability calculation tool that supports Texas Holdem and Omaha.\n",
    "\n",
    "\n",
    "### Initialization\n",
    "\n",
    "--- \n",
    "\n",
    "Initialize with number of players and deck type(full or short deck(6 and above))"
   ]
  },
  {
   "cell_type": "code",
   "execution_count": 87,
   "metadata": {},
   "outputs": [],
   "source": [
    "holdem_game = HoldemTable(num_players=2, deck_type='full')"
   ]
  },
  {
   "cell_type": "markdown",
   "metadata": {},
   "source": [
    "### Deal Player Cards\n",
    "\n",
    "--- \n",
    "\n",
    "- Can Either Manually Add or Random Hand out Cards\n",
    "- Check the Current Table"
   ]
  },
  {
   "cell_type": "code",
   "execution_count": 88,
   "metadata": {},
   "outputs": [],
   "source": [
    "holdem_game.add_to_hand(1, ['2s', '3s'])"
   ]
  },
  {
   "cell_type": "code",
   "execution_count": 89,
   "metadata": {},
   "outputs": [
    {
     "name": "stderr",
     "output_type": "stream",
     "text": [
      "INFO:root:Giving Player 2 Kh 5h\n"
     ]
    }
   ],
   "source": [
    "holdem_game.next_round() # Will hand out remaining players starting hand"
   ]
  },
  {
   "cell_type": "code",
   "execution_count": 92,
   "metadata": {},
   "outputs": [
    {
     "data": {
      "text/plain": [
       "{'Player 1': '2s 3s', 'Player 2': 'Kh 5h', 'Community Cards': '7h 7s 8s'}"
      ]
     },
     "execution_count": 92,
     "metadata": {},
     "output_type": "execute_result"
    }
   ],
   "source": [
    "holdem_game.view_table()"
   ]
  },
  {
   "cell_type": "code",
   "execution_count": 91,
   "metadata": {},
   "outputs": [],
   "source": [
    "holdem_game.add_to_community(['7h', '7s', '8s'])"
   ]
  },
  {
   "cell_type": "markdown",
   "metadata": {},
   "source": [
    "### Simulation\n",
    "\n",
    "--- \n",
    "\n",
    "- Set Number of Scenarios, default is 150000 for Holdem and 25000 for Omaha\n",
    "- Return Final Hand Probability\n",
    "- Return Three Types of Odds Calculation (Default is tie_win)\n",
    "    - win_any, any win counts as a win scenario for a player\n",
    "    - tie_win, any exclusive win counts as win, any tied win or tie counts as a tie\n",
    "    - precise, every possible outcome"
   ]
  },
  {
   "cell_type": "code",
   "execution_count": 29,
   "metadata": {},
   "outputs": [
    {
     "name": "stderr",
     "output_type": "stream",
     "text": [
      "INFO:root:6300000 Simulations in 4.47s\n"
     ]
    },
    {
     "data": {
      "text/plain": [
       "{'Player 1 Win': 37.99,\n",
       " 'Player 1 Tie': 1.33,\n",
       " 'Player 2 Win': 60.68,\n",
       " 'Player 2 Tie': 1.33}"
      ]
     },
     "execution_count": 29,
     "metadata": {},
     "output_type": "execute_result"
    }
   ],
   "source": [
    "holdem_game.simulate()"
   ]
  },
  {
   "cell_type": "code",
   "execution_count": 65,
   "metadata": {},
   "outputs": [
    {
     "name": "stderr",
     "output_type": "stream",
     "text": [
      "INFO:root:21000 Simulations in 0.09s\n"
     ]
    },
    {
     "data": {
      "text/plain": [
       "{'Tie': 0.4, 'Player 1': 99.2, 'Player 2': 0.4}"
      ]
     },
     "execution_count": 65,
     "metadata": {},
     "output_type": "execute_result"
    }
   ],
   "source": [
    "holdem_game.simulate(num_scenarios=500, odds_type='win_any') "
   ]
  },
  {
   "cell_type": "code",
   "execution_count": 42,
   "metadata": {},
   "outputs": [
    {
     "data": {
      "text/plain": [
       "{'Tie': 1.4, 'Player 1': 40.2, 'Player 2': 58.4}"
      ]
     },
     "execution_count": 42,
     "metadata": {},
     "output_type": "execute_result"
    }
   ],
   "source": [
    "x"
   ]
  },
  {
   "cell_type": "code",
   "execution_count": 54,
   "metadata": {},
   "outputs": [
    {
     "name": "stderr",
     "output_type": "stream",
     "text": [
      "INFO:root:41580 Simulations in 0.09s\n"
     ]
    },
    {
     "data": {
      "text/plain": [
       "{'Tie': 0.3, 'Player 1': 99.09, 'Player 2': 0.61}"
      ]
     },
     "execution_count": 54,
     "metadata": {},
     "output_type": "execute_result"
    }
   ],
   "source": [
    "holdem_game.simulate(odds_type='win_any')"
   ]
  },
  {
   "cell_type": "code",
   "execution_count": 9,
   "metadata": {},
   "outputs": [
    {
     "name": "stderr",
     "output_type": "stream",
     "text": [
      "INFO:root:6300000 Simulations in 4.06s\n"
     ]
    },
    {
     "data": {
      "text/plain": [
       "{1: {'One Pair': 38.72,\n",
       "  'Two Pairs': 43.94,\n",
       "  'Three of a Kind': 6.62,\n",
       "  'Straight': 2.4,\n",
       "  'Flush': 2.26,\n",
       "  'Full House': 6.02,\n",
       "  'Four of a Kind': 0.03,\n",
       "  'Straight Flush': 0.03},\n",
       " 2: {'High Card': 20.34,\n",
       "  'One Pair': 42.53,\n",
       "  'Two Pairs': 17.1,\n",
       "  'Three of a Kind': 3.55,\n",
       "  'Straight': 7.83,\n",
       "  'Flush': 7.17,\n",
       "  'Full House': 1.21,\n",
       "  'Four of a Kind': 0.08,\n",
       "  'Straight Flush': 0.19}}"
      ]
     },
     "execution_count": 9,
     "metadata": {},
     "output_type": "execute_result"
    }
   ],
   "source": [
    "win_draw_loss, final_hand = holdem_game.simulate(final_hand=True)\n",
    "final_hand"
   ]
  },
  {
   "cell_type": "markdown",
   "metadata": {},
   "source": [
    "### Next Round\n",
    "\n",
    "--- \n",
    "\n",
    "- Run Next Round and Update Odds\n",
    "- Check Game Result\n",
    "- Check Current Best Hand for each player"
   ]
  },
  {
   "cell_type": "code",
   "execution_count": 45,
   "metadata": {},
   "outputs": [
    {
     "name": "stderr",
     "output_type": "stream",
     "text": [
      "INFO:root:River card:  Jd\n"
     ]
    }
   ],
   "source": [
    "holdem_game.next_round()"
   ]
  },
  {
   "cell_type": "code",
   "execution_count": 14,
   "metadata": {},
   "outputs": [
    {
     "data": {
      "text/plain": [
       "'2d 2c 3d 3c 3s 3h 4d 4c 4s 4h 5d 5c 5s 5h 6d 6c 6s 6h 7d 7c 7s 7h 8d 8c 8s 8h 9d 9c 9s 9h Tc Jd Jc Js Qd Qc Qs Kd Kc Ks Kh Ac As Ah'"
      ]
     },
     "execution_count": 14,
     "metadata": {},
     "output_type": "execute_result"
    }
   ],
   "source": [
    "holdem_game.view_deck()"
   ]
  },
  {
   "cell_type": "code",
   "execution_count": 73,
   "metadata": {},
   "outputs": [],
   "source": [
    "holdem_game.add_to_community(['7h', '7s', '8s')"
   ]
  },
  {
   "cell_type": "code",
   "execution_count": 75,
   "metadata": {},
   "outputs": [
    {
     "data": {
      "text/plain": [
       "'Player 2 wins with a Three of a Kind'"
      ]
     },
     "execution_count": 75,
     "metadata": {},
     "output_type": "execute_result"
    }
   ],
   "source": [
    "holdem_game.view_result()"
   ]
  },
  {
   "cell_type": "code",
   "execution_count": 74,
   "metadata": {},
   "outputs": [
    {
     "data": {
      "text/plain": [
       "{'Player 1': '2s 3s', 'Player 2': 'Qd 4h', 'Community Cards': '7d 7s 7h'}"
      ]
     },
     "execution_count": 74,
     "metadata": {},
     "output_type": "execute_result"
    }
   ],
   "source": [
    "holdem_game.view_table()"
   ]
  },
  {
   "cell_type": "code",
   "execution_count": 76,
   "metadata": {},
   "outputs": [
    {
     "name": "stderr",
     "output_type": "stream",
     "text": [
      "INFO:root:41580 Simulations in 0.09s\n"
     ]
    },
    {
     "data": {
      "text/plain": [
       "{'Player 1 Win': 23.13,\n",
       " 'Player 1 Tie': 12.93,\n",
       " 'Player 2 Win': 63.94,\n",
       " 'Player 2 Tie': 12.93}"
      ]
     },
     "execution_count": 76,
     "metadata": {},
     "output_type": "execute_result"
    }
   ],
   "source": [
    "holdem_game.simulate()"
   ]
  },
  {
   "cell_type": "code",
   "execution_count": 14,
   "metadata": {},
   "outputs": [
    {
     "name": "stderr",
     "output_type": "stream",
     "text": [
      "INFO:root:Turn card:  9s\n"
     ]
    }
   ],
   "source": [
    "holdem_game.next_round()"
   ]
  },
  {
   "cell_type": "code",
   "execution_count": 16,
   "metadata": {},
   "outputs": [
    {
     "data": {
      "text/plain": [
       "'Player 2 wins with a Two Pairs'"
      ]
     },
     "execution_count": 16,
     "metadata": {},
     "output_type": "execute_result"
    }
   ],
   "source": [
    "holdem_game.view_result()"
   ]
  },
  {
   "cell_type": "code",
   "execution_count": 77,
   "metadata": {},
   "outputs": [
    {
     "name": "stderr",
     "output_type": "stream",
     "text": [
      "INFO:root:41580 Simulations in 0.09s\n"
     ]
    },
    {
     "data": {
      "text/plain": [
       "({'Player 1 Win': 23.13,\n",
       "  'Player 1 Tie': 12.93,\n",
       "  'Player 2 Win': 63.94,\n",
       "  'Player 2 Tie': 12.93},\n",
       " {1: {'Three of a Kind': 61.01,\n",
       "   'Flush': 4.55,\n",
       "   'Full House': 30.0,\n",
       "   'Four of a Kind': 4.44},\n",
       "  2: {'Three of a Kind': 65.56, 'Full House': 30.0, 'Four of a Kind': 4.44}})"
      ]
     },
     "execution_count": 77,
     "metadata": {},
     "output_type": "execute_result"
    }
   ],
   "source": [
    "holdem_game.simulate(final_hand=True)"
   ]
  },
  {
   "cell_type": "code",
   "execution_count": 78,
   "metadata": {},
   "outputs": [
    {
     "data": {
      "text/plain": [
       "{'Player 1 Current Hand': 'Three of a Kind 2s 7s 3d 7s 7h',\n",
       " 'Player 2 Current Hand': 'Three of a Kind 4d 7h 7d 7s Qh'}"
      ]
     },
     "execution_count": 78,
     "metadata": {},
     "output_type": "execute_result"
    }
   ],
   "source": [
    "holdem_game.view_hand()"
   ]
  },
  {
   "cell_type": "code",
   "execution_count": 21,
   "metadata": {},
   "outputs": [],
   "source": [
    "holdem_game.next_round()"
   ]
  },
  {
   "cell_type": "code",
   "execution_count": 79,
   "metadata": {},
   "outputs": [
    {
     "data": {
      "text/plain": [
       "'Player 2 wins with a Three of a Kind'"
      ]
     },
     "execution_count": 79,
     "metadata": {},
     "output_type": "execute_result"
    }
   ],
   "source": [
    "holdem_game.view_result()"
   ]
  },
  {
   "cell_type": "markdown",
   "metadata": {},
   "source": [
    "## Omaha\n",
    "---\n",
    "\n",
    "Functions are exactly identical in Omaha. However calculations are slower in Omaha because 60 different combinations are possible with one simulation"
   ]
  },
  {
   "cell_type": "code",
   "execution_count": 35,
   "metadata": {},
   "outputs": [],
   "source": [
    "omaha_game = OmahaTable(num_players=3, deck_type='short')"
   ]
  },
  {
   "cell_type": "code",
   "execution_count": 36,
   "metadata": {},
   "outputs": [
    {
     "name": "stderr",
     "output_type": "stream",
     "text": [
      "INFO:root:Giving Player 1 7d Qs 8d Qd\n",
      "INFO:root:Giving Player 2 7h 9c Ac Ah\n",
      "INFO:root:Giving Player 3 Ad 8c Js Qc\n"
     ]
    },
    {
     "data": {
      "text/plain": [
       "{'Player 1': '7d Qs 8d Qd',\n",
       " 'Player 2': '7h 9c Ac Ah',\n",
       " 'Player 3': 'Ad 8c Js Qc',\n",
       " 'Community Cards': ''}"
      ]
     },
     "execution_count": 36,
     "metadata": {},
     "output_type": "execute_result"
    }
   ],
   "source": [
    "omaha_game.next_round()\n",
    "omaha_game.view_table()"
   ]
  },
  {
   "cell_type": "code",
   "execution_count": 37,
   "metadata": {},
   "outputs": [
    {
     "name": "stderr",
     "output_type": "stream",
     "text": [
      "INFO:root:4500000 Simulations in 3.07s\n"
     ]
    }
   ],
   "source": [
    "win_tie_loss, final_hand = omaha_game.simulate(final_hand=True)"
   ]
  },
  {
   "cell_type": "code",
   "execution_count": 38,
   "metadata": {},
   "outputs": [
    {
     "data": {
      "text/plain": [
       "{'Player 1 Win': 16.67,\n",
       " 'Player 1 Tie': 4.39,\n",
       " 'Player 2 Win': 50.67,\n",
       " 'Player 2 Tie': 0.0,\n",
       " 'Player 3 Win': 28.27,\n",
       " 'Player 3 Tie': 4.39}"
      ]
     },
     "execution_count": 38,
     "metadata": {},
     "output_type": "execute_result"
    }
   ],
   "source": [
    "win_tie_loss"
   ]
  },
  {
   "cell_type": "code",
   "execution_count": 39,
   "metadata": {},
   "outputs": [
    {
     "data": {
      "text/plain": [
       "{1: {'One Pair': 7.09,\n",
       "  'Two Pairs': 39.08,\n",
       "  'Three of a Kind': 11.6,\n",
       "  'Straight': 19.73,\n",
       "  'Flush': 3.07,\n",
       "  'Full House': 18.47,\n",
       "  'Straight Flush': 0.97},\n",
       " 2: {'One Pair': 5.48,\n",
       "  'Two Pairs': 33.15,\n",
       "  'Three of a Kind': 13.04,\n",
       "  'Straight': 12.38,\n",
       "  'Flush': 15.5,\n",
       "  'Full House': 19.89,\n",
       "  'Four of a Kind': 0.56},\n",
       " 3: {'One Pair': 7.69,\n",
       "  'Two Pairs': 32.0,\n",
       "  'Three of a Kind': 8.6,\n",
       "  'Straight': 40.65,\n",
       "  'Flush': 4.1,\n",
       "  'Full House': 6.47,\n",
       "  'Four of a Kind': 0.49}}"
      ]
     },
     "execution_count": 39,
     "metadata": {},
     "output_type": "execute_result"
    }
   ],
   "source": [
    "final_hand"
   ]
  },
  {
   "cell_type": "code",
   "execution_count": 40,
   "metadata": {},
   "outputs": [
    {
     "name": "stderr",
     "output_type": "stream",
     "text": [
      "INFO:root:Flop card:  7s Ts As\n",
      "INFO:root:37800 Simulations in 0.21s\n"
     ]
    },
    {
     "data": {
      "text/plain": [
       "{'Player 1 Win': 0.0,\n",
       " 'Player 1 Tie': 4.29,\n",
       " 'Player 2 Win': 60.95,\n",
       " 'Player 2 Tie': 0.0,\n",
       " 'Player 3 Win': 34.76,\n",
       " 'Player 3 Tie': 4.29}"
      ]
     },
     "execution_count": 40,
     "metadata": {},
     "output_type": "execute_result"
    }
   ],
   "source": [
    "omaha_game.next_round()\n",
    "omaha_game.simulate()"
   ]
  },
  {
   "cell_type": "code",
   "execution_count": 41,
   "metadata": {},
   "outputs": [
    {
     "data": {
      "text/plain": [
       "'Player 2 wins with a Three of a Kind'"
      ]
     },
     "execution_count": 41,
     "metadata": {},
     "output_type": "execute_result"
    }
   ],
   "source": [
    "omaha_game.view_result()"
   ]
  },
  {
   "cell_type": "code",
   "execution_count": 42,
   "metadata": {},
   "outputs": [
    {
     "data": {
      "text/plain": [
       "{'Player 1 Current Hand': 'One Pair 7s Td As Qs Qs',\n",
       " 'Player 2 Current Hand': 'Three of a Kind 7c Ah Ts As As',\n",
       " 'Player 3 Current Hand': 'One Pair 7d Tc Qs As As'}"
      ]
     },
     "execution_count": 42,
     "metadata": {},
     "output_type": "execute_result"
    }
   ],
   "source": [
    "omaha_game.view_hand()"
   ]
  },
  {
   "cell_type": "code",
   "execution_count": null,
   "metadata": {},
   "outputs": [],
   "source": []
  }
 ],
 "metadata": {
  "kernelspec": {
   "display_name": "Python 3 (ipykernel)",
   "language": "python",
   "name": "python3"
  },
  "language_info": {
   "codemirror_mode": {
    "name": "ipython",
    "version": 3
   },
   "file_extension": ".py",
   "mimetype": "text/x-python",
   "name": "python",
   "nbconvert_exporter": "python",
   "pygments_lexer": "ipython3",
   "version": "3.8.10"
  }
 },
 "nbformat": 4,
 "nbformat_minor": 4
}
